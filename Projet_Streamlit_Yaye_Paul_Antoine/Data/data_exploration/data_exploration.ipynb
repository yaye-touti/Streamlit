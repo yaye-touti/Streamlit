{
 "cells": [
  {
   "cell_type": "code",
   "execution_count": 3,
   "id": "2c563c68",
   "metadata": {},
   "outputs": [],
   "source": [
    "#import des librerie\n",
    "import pandas as pd"
   ]
  },
  {
   "cell_type": "code",
   "execution_count": 4,
   "id": "175db621",
   "metadata": {},
   "outputs": [],
   "source": [
    "#recuperation des données \n",
    "fichierName ='all_commodities_futures_collection.csv'\n",
    "df = pd.read_csv(fichierName)"
   ]
  },
  {
   "cell_type": "code",
   "execution_count": 5,
   "id": "fbd36a23",
   "metadata": {},
   "outputs": [
    {
     "data": {
      "text/html": [
       "<div>\n",
       "<style scoped>\n",
       "    .dataframe tbody tr th:only-of-type {\n",
       "        vertical-align: middle;\n",
       "    }\n",
       "\n",
       "    .dataframe tbody tr th {\n",
       "        vertical-align: top;\n",
       "    }\n",
       "\n",
       "    .dataframe thead th {\n",
       "        text-align: right;\n",
       "    }\n",
       "</style>\n",
       "<table border=\"1\" class=\"dataframe\">\n",
       "  <thead>\n",
       "    <tr style=\"text-align: right;\">\n",
       "      <th></th>\n",
       "      <th>ticker</th>\n",
       "      <th>commodity</th>\n",
       "      <th>category</th>\n",
       "      <th>date</th>\n",
       "      <th>open</th>\n",
       "      <th>high</th>\n",
       "      <th>low</th>\n",
       "      <th>close</th>\n",
       "      <th>volume</th>\n",
       "    </tr>\n",
       "  </thead>\n",
       "  <tbody>\n",
       "    <tr>\n",
       "      <th>0</th>\n",
       "      <td>HE=F</td>\n",
       "      <td>Lean Hogs</td>\n",
       "      <td>Animal Products</td>\n",
       "      <td>2002-03-04</td>\n",
       "      <td>59.700001</td>\n",
       "      <td>59.875000</td>\n",
       "      <td>59.599998</td>\n",
       "      <td>59.650002</td>\n",
       "      <td>0</td>\n",
       "    </tr>\n",
       "    <tr>\n",
       "      <th>1</th>\n",
       "      <td>HE=F</td>\n",
       "      <td>Lean Hogs</td>\n",
       "      <td>Animal Products</td>\n",
       "      <td>2002-03-05</td>\n",
       "      <td>59.150002</td>\n",
       "      <td>59.150002</td>\n",
       "      <td>58.700001</td>\n",
       "      <td>58.799999</td>\n",
       "      <td>0</td>\n",
       "    </tr>\n",
       "    <tr>\n",
       "      <th>2</th>\n",
       "      <td>HE=F</td>\n",
       "      <td>Lean Hogs</td>\n",
       "      <td>Animal Products</td>\n",
       "      <td>2002-03-06</td>\n",
       "      <td>58.500000</td>\n",
       "      <td>58.799999</td>\n",
       "      <td>57.700001</td>\n",
       "      <td>57.700001</td>\n",
       "      <td>0</td>\n",
       "    </tr>\n",
       "    <tr>\n",
       "      <th>3</th>\n",
       "      <td>HE=F</td>\n",
       "      <td>Lean Hogs</td>\n",
       "      <td>Animal Products</td>\n",
       "      <td>2002-03-07</td>\n",
       "      <td>58.200001</td>\n",
       "      <td>58.599998</td>\n",
       "      <td>58.000000</td>\n",
       "      <td>58.400002</td>\n",
       "      <td>0</td>\n",
       "    </tr>\n",
       "    <tr>\n",
       "      <th>4</th>\n",
       "      <td>HE=F</td>\n",
       "      <td>Lean Hogs</td>\n",
       "      <td>Animal Products</td>\n",
       "      <td>2002-03-08</td>\n",
       "      <td>58.250000</td>\n",
       "      <td>58.250000</td>\n",
       "      <td>57.900002</td>\n",
       "      <td>58.049999</td>\n",
       "      <td>0</td>\n",
       "    </tr>\n",
       "    <tr>\n",
       "      <th>5</th>\n",
       "      <td>HE=F</td>\n",
       "      <td>Lean Hogs</td>\n",
       "      <td>Animal Products</td>\n",
       "      <td>2002-03-11</td>\n",
       "      <td>57.924999</td>\n",
       "      <td>58.025002</td>\n",
       "      <td>57.575001</td>\n",
       "      <td>57.575001</td>\n",
       "      <td>0</td>\n",
       "    </tr>\n",
       "    <tr>\n",
       "      <th>6</th>\n",
       "      <td>HE=F</td>\n",
       "      <td>Lean Hogs</td>\n",
       "      <td>Animal Products</td>\n",
       "      <td>2002-03-12</td>\n",
       "      <td>57.349998</td>\n",
       "      <td>57.549999</td>\n",
       "      <td>57.250000</td>\n",
       "      <td>57.275002</td>\n",
       "      <td>0</td>\n",
       "    </tr>\n",
       "    <tr>\n",
       "      <th>7</th>\n",
       "      <td>HE=F</td>\n",
       "      <td>Lean Hogs</td>\n",
       "      <td>Animal Products</td>\n",
       "      <td>2002-03-13</td>\n",
       "      <td>57.200001</td>\n",
       "      <td>57.200001</td>\n",
       "      <td>56.625000</td>\n",
       "      <td>56.700001</td>\n",
       "      <td>0</td>\n",
       "    </tr>\n",
       "    <tr>\n",
       "      <th>8</th>\n",
       "      <td>HE=F</td>\n",
       "      <td>Lean Hogs</td>\n",
       "      <td>Animal Products</td>\n",
       "      <td>2002-03-14</td>\n",
       "      <td>56.775002</td>\n",
       "      <td>56.825001</td>\n",
       "      <td>56.200001</td>\n",
       "      <td>56.724998</td>\n",
       "      <td>0</td>\n",
       "    </tr>\n",
       "    <tr>\n",
       "      <th>9</th>\n",
       "      <td>HE=F</td>\n",
       "      <td>Lean Hogs</td>\n",
       "      <td>Animal Products</td>\n",
       "      <td>2002-03-15</td>\n",
       "      <td>55.075001</td>\n",
       "      <td>55.224998</td>\n",
       "      <td>55.025002</td>\n",
       "      <td>55.075001</td>\n",
       "      <td>0</td>\n",
       "    </tr>\n",
       "  </tbody>\n",
       "</table>\n",
       "</div>"
      ],
      "text/plain": [
       "  ticker  commodity         category        date       open       high  \\\n",
       "0   HE=F  Lean Hogs  Animal Products  2002-03-04  59.700001  59.875000   \n",
       "1   HE=F  Lean Hogs  Animal Products  2002-03-05  59.150002  59.150002   \n",
       "2   HE=F  Lean Hogs  Animal Products  2002-03-06  58.500000  58.799999   \n",
       "3   HE=F  Lean Hogs  Animal Products  2002-03-07  58.200001  58.599998   \n",
       "4   HE=F  Lean Hogs  Animal Products  2002-03-08  58.250000  58.250000   \n",
       "5   HE=F  Lean Hogs  Animal Products  2002-03-11  57.924999  58.025002   \n",
       "6   HE=F  Lean Hogs  Animal Products  2002-03-12  57.349998  57.549999   \n",
       "7   HE=F  Lean Hogs  Animal Products  2002-03-13  57.200001  57.200001   \n",
       "8   HE=F  Lean Hogs  Animal Products  2002-03-14  56.775002  56.825001   \n",
       "9   HE=F  Lean Hogs  Animal Products  2002-03-15  55.075001  55.224998   \n",
       "\n",
       "         low      close  volume  \n",
       "0  59.599998  59.650002       0  \n",
       "1  58.700001  58.799999       0  \n",
       "2  57.700001  57.700001       0  \n",
       "3  58.000000  58.400002       0  \n",
       "4  57.900002  58.049999       0  \n",
       "5  57.575001  57.575001       0  \n",
       "6  57.250000  57.275002       0  \n",
       "7  56.625000  56.700001       0  \n",
       "8  56.200001  56.724998       0  \n",
       "9  55.025002  55.075001       0  "
      ]
     },
     "execution_count": 5,
     "metadata": {},
     "output_type": "execute_result"
    }
   ],
   "source": [
    "#Aperçu des données (10 premiers lignes)\n",
    "df.head(10)"
   ]
  },
  {
   "cell_type": "code",
   "execution_count": 6,
   "id": "8ab77585",
   "metadata": {},
   "outputs": [
    {
     "name": "stdout",
     "output_type": "stream",
     "text": [
      "- ticker\n",
      "- commodity\n",
      "- category\n",
      "- date\n",
      "- open\n",
      "- high\n",
      "- low\n",
      "- close\n",
      "- volume\n"
     ]
    }
   ],
   "source": [
    "#Liste des colonnes\n",
    "for col in df.columns:\n",
    "    print(f\"- {col}\")"
   ]
  },
  {
   "cell_type": "code",
   "execution_count": 7,
   "id": "da9c999a",
   "metadata": {},
   "outputs": [
    {
     "name": "stdout",
     "output_type": "stream",
     "text": [
      "Notre jeux de données comporte :\n",
      "135295 lignes\n",
      "9 colonnes\n"
     ]
    }
   ],
   "source": [
    "#Nombre d'observation \n",
    "print('Notre jeux de données comporte :')\n",
    "print(df.shape[0], 'lignes')\n",
    "print(df.shape[1], 'colonnes')"
   ]
  },
  {
   "cell_type": "code",
   "execution_count": 8,
   "id": "35ef0bf9",
   "metadata": {},
   "outputs": [
    {
     "name": "stdout",
     "output_type": "stream",
     "text": [
      "types des variables: \n",
      "<class 'pandas.core.frame.DataFrame'>\n",
      "RangeIndex: 135295 entries, 0 to 135294\n",
      "Data columns (total 9 columns):\n",
      " #   Column     Non-Null Count   Dtype  \n",
      "---  ------     --------------   -----  \n",
      " 0   ticker     135295 non-null  object \n",
      " 1   commodity  135295 non-null  object \n",
      " 2   category   135295 non-null  object \n",
      " 3   date       135295 non-null  object \n",
      " 4   open       135295 non-null  float64\n",
      " 5   high       135295 non-null  float64\n",
      " 6   low        135295 non-null  float64\n",
      " 7   close      135295 non-null  float64\n",
      " 8   volume     135295 non-null  int64  \n",
      "dtypes: float64(4), int64(1), object(4)\n",
      "memory usage: 9.3+ MB\n"
     ]
    }
   ],
   "source": [
    "#Type de chaque variable\n",
    "print(\"types des variables: \")\n",
    "df.info()"
   ]
  },
  {
   "cell_type": "code",
   "execution_count": 9,
   "id": "fc91fcbc",
   "metadata": {},
   "outputs": [],
   "source": [
    "# Convertir la colonne 'date' au format datetime\n",
    "df['date'] = pd.to_datetime(df['date'])"
   ]
  },
  {
   "cell_type": "code",
   "execution_count": 10,
   "id": "3df5fb8a",
   "metadata": {},
   "outputs": [
    {
     "name": "stdout",
     "output_type": "stream",
     "text": [
      "Date de début : 2000-01-03 00:00:00\n",
      "Date de fin : 2024-06-24 00:00:00\n"
     ]
    }
   ],
   "source": [
    "#Plage de date\n",
    "debut = df['date'].min()\n",
    "fin = df['date'].max()\n",
    "\n",
    "print(\"Date de début :\", debut)\n",
    "print(\"Date de fin :\", fin)"
   ]
  },
  {
   "cell_type": "code",
   "execution_count": 11,
   "id": "1cb93fc9",
   "metadata": {},
   "outputs": [
    {
     "data": {
      "text/plain": [
       "ticker       0\n",
       "commodity    0\n",
       "category     0\n",
       "date         0\n",
       "open         0\n",
       "high         0\n",
       "low          0\n",
       "close        0\n",
       "volume       0\n",
       "dtype: int64"
      ]
     },
     "execution_count": 11,
     "metadata": {},
     "output_type": "execute_result"
    }
   ],
   "source": [
    "#Valeur manquante\n",
    "df.isnull().sum()"
   ]
  },
  {
   "cell_type": "code",
   "execution_count": 12,
   "id": "bfc4212f",
   "metadata": {},
   "outputs": [],
   "source": [
    "#Creation de nouvelle colonne\n",
    "#\"daily_trend\" :indique si le prix de clôture est plus élevé ou plus bas que le prix d’ouverture.\n",
    "\n",
    "df['daily_trend'] = df.apply(\n",
    "    lambda row: 'Positive' if row['close'] > row['open'] else ('Negative' if row['close'] < row['open'] else 'Neutral'),\n",
    "    axis=1\n",
    ")"
   ]
  },
  {
   "cell_type": "code",
   "execution_count": 13,
   "id": "c722d86d",
   "metadata": {},
   "outputs": [],
   "source": [
    "#'volatility' mesure l'amplitude des variations de prix pour une commodité sur une journée.\n",
    "df['volatility'] = ((df['high'] - df['low']) / df['open']) * 100"
   ]
  },
  {
   "cell_type": "code",
   "execution_count": 14,
   "id": "329b2e0b",
   "metadata": {},
   "outputs": [],
   "source": [
    "#relative_gap est l'écart moyen relatif entre les prix de clôture et d’ouverture, \n",
    "#qui montre la variation relative en pourcentage :\n",
    "df['relative_gap'] = ((df['close'] - df['open']) / df['open']) * 100"
   ]
  },
  {
   "cell_type": "code",
   "execution_count": 15,
   "id": "5270183f",
   "metadata": {},
   "outputs": [
    {
     "data": {
      "text/html": [
       "<div>\n",
       "<style scoped>\n",
       "    .dataframe tbody tr th:only-of-type {\n",
       "        vertical-align: middle;\n",
       "    }\n",
       "\n",
       "    .dataframe tbody tr th {\n",
       "        vertical-align: top;\n",
       "    }\n",
       "\n",
       "    .dataframe thead th {\n",
       "        text-align: right;\n",
       "    }\n",
       "</style>\n",
       "<table border=\"1\" class=\"dataframe\">\n",
       "  <thead>\n",
       "    <tr style=\"text-align: right;\">\n",
       "      <th></th>\n",
       "      <th>volatility</th>\n",
       "      <th>daily_trend</th>\n",
       "      <th>relative_gap</th>\n",
       "    </tr>\n",
       "  </thead>\n",
       "  <tbody>\n",
       "    <tr>\n",
       "      <th>0</th>\n",
       "      <td>0.460639</td>\n",
       "      <td>Negative</td>\n",
       "      <td>-0.083751</td>\n",
       "    </tr>\n",
       "    <tr>\n",
       "      <th>1</th>\n",
       "      <td>0.760779</td>\n",
       "      <td>Negative</td>\n",
       "      <td>-0.591720</td>\n",
       "    </tr>\n",
       "    <tr>\n",
       "      <th>2</th>\n",
       "      <td>1.880339</td>\n",
       "      <td>Negative</td>\n",
       "      <td>-1.367520</td>\n",
       "    </tr>\n",
       "    <tr>\n",
       "      <th>3</th>\n",
       "      <td>1.030925</td>\n",
       "      <td>Positive</td>\n",
       "      <td>0.343644</td>\n",
       "    </tr>\n",
       "    <tr>\n",
       "      <th>4</th>\n",
       "      <td>0.600856</td>\n",
       "      <td>Negative</td>\n",
       "      <td>-0.343349</td>\n",
       "    </tr>\n",
       "  </tbody>\n",
       "</table>\n",
       "</div>"
      ],
      "text/plain": [
       "   volatility daily_trend  relative_gap\n",
       "0    0.460639    Negative     -0.083751\n",
       "1    0.760779    Negative     -0.591720\n",
       "2    1.880339    Negative     -1.367520\n",
       "3    1.030925    Positive      0.343644\n",
       "4    0.600856    Negative     -0.343349"
      ]
     },
     "execution_count": 15,
     "metadata": {},
     "output_type": "execute_result"
    }
   ],
   "source": [
    "#Apperçu des nouvelles colonnes\n",
    "df[['volatility', 'daily_trend', 'relative_gap']].head()"
   ]
  },
  {
   "cell_type": "code",
   "execution_count": 16,
   "id": "c071c66f",
   "metadata": {},
   "outputs": [
    {
     "data": {
      "text/html": [
       "<div>\n",
       "<style scoped>\n",
       "    .dataframe tbody tr th:only-of-type {\n",
       "        vertical-align: middle;\n",
       "    }\n",
       "\n",
       "    .dataframe tbody tr th {\n",
       "        vertical-align: top;\n",
       "    }\n",
       "\n",
       "    .dataframe thead th {\n",
       "        text-align: right;\n",
       "    }\n",
       "</style>\n",
       "<table border=\"1\" class=\"dataframe\">\n",
       "  <thead>\n",
       "    <tr style=\"text-align: right;\">\n",
       "      <th></th>\n",
       "      <th>date</th>\n",
       "      <th>open</th>\n",
       "      <th>high</th>\n",
       "      <th>low</th>\n",
       "      <th>close</th>\n",
       "      <th>volume</th>\n",
       "      <th>volatility</th>\n",
       "      <th>relative_gap</th>\n",
       "    </tr>\n",
       "  </thead>\n",
       "  <tbody>\n",
       "    <tr>\n",
       "      <th>count</th>\n",
       "      <td>135295</td>\n",
       "      <td>135295.000000</td>\n",
       "      <td>135295.000000</td>\n",
       "      <td>135295.000000</td>\n",
       "      <td>135295.000000</td>\n",
       "      <td>1.352950e+05</td>\n",
       "      <td>135295.000000</td>\n",
       "      <td>135295.000000</td>\n",
       "    </tr>\n",
       "    <tr>\n",
       "      <th>mean</th>\n",
       "      <td>2012-09-22 04:45:27.373517056</td>\n",
       "      <td>430.655889</td>\n",
       "      <td>434.262222</td>\n",
       "      <td>427.086024</td>\n",
       "      <td>430.646209</td>\n",
       "      <td>3.398976e+04</td>\n",
       "      <td>2.100853</td>\n",
       "      <td>-0.013889</td>\n",
       "    </tr>\n",
       "    <tr>\n",
       "      <th>min</th>\n",
       "      <td>2000-01-03 00:00:00</td>\n",
       "      <td>-14.000000</td>\n",
       "      <td>0.507000</td>\n",
       "      <td>-40.320000</td>\n",
       "      <td>-37.630001</td>\n",
       "      <td>0.000000e+00</td>\n",
       "      <td>-218.571424</td>\n",
       "      <td>-312.239154</td>\n",
       "    </tr>\n",
       "    <tr>\n",
       "      <th>25%</th>\n",
       "      <td>2006-10-23 00:00:00</td>\n",
       "      <td>20.224999</td>\n",
       "      <td>20.400000</td>\n",
       "      <td>20.041000</td>\n",
       "      <td>20.193000</td>\n",
       "      <td>1.040000e+02</td>\n",
       "      <td>0.879423</td>\n",
       "      <td>-0.768389</td>\n",
       "    </tr>\n",
       "    <tr>\n",
       "      <th>50%</th>\n",
       "      <td>2012-11-02 00:00:00</td>\n",
       "      <td>110.500000</td>\n",
       "      <td>111.529999</td>\n",
       "      <td>109.500000</td>\n",
       "      <td>110.500000</td>\n",
       "      <td>2.663000e+03</td>\n",
       "      <td>1.791280</td>\n",
       "      <td>0.000000</td>\n",
       "    </tr>\n",
       "    <tr>\n",
       "      <th>75%</th>\n",
       "      <td>2018-09-12 00:00:00</td>\n",
       "      <td>588.750000</td>\n",
       "      <td>593.000000</td>\n",
       "      <td>584.000000</td>\n",
       "      <td>588.500000</td>\n",
       "      <td>3.070650e+04</td>\n",
       "      <td>2.877327</td>\n",
       "      <td>0.748876</td>\n",
       "    </tr>\n",
       "    <tr>\n",
       "      <th>max</th>\n",
       "      <td>2024-06-24 00:00:00</td>\n",
       "      <td>11967.000000</td>\n",
       "      <td>12261.000000</td>\n",
       "      <td>11132.000000</td>\n",
       "      <td>11878.000000</td>\n",
       "      <td>2.288230e+06</td>\n",
       "      <td>328.087995</td>\n",
       "      <td>48.108743</td>\n",
       "    </tr>\n",
       "    <tr>\n",
       "      <th>std</th>\n",
       "      <td>NaN</td>\n",
       "      <td>667.196460</td>\n",
       "      <td>674.097564</td>\n",
       "      <td>660.621961</td>\n",
       "      <td>667.494880</td>\n",
       "      <td>8.315627e+04</td>\n",
       "      <td>2.155053</td>\n",
       "      <td>2.004861</td>\n",
       "    </tr>\n",
       "  </tbody>\n",
       "</table>\n",
       "</div>"
      ],
      "text/plain": [
       "                                date           open           high  \\\n",
       "count                         135295  135295.000000  135295.000000   \n",
       "mean   2012-09-22 04:45:27.373517056     430.655889     434.262222   \n",
       "min              2000-01-03 00:00:00     -14.000000       0.507000   \n",
       "25%              2006-10-23 00:00:00      20.224999      20.400000   \n",
       "50%              2012-11-02 00:00:00     110.500000     111.529999   \n",
       "75%              2018-09-12 00:00:00     588.750000     593.000000   \n",
       "max              2024-06-24 00:00:00   11967.000000   12261.000000   \n",
       "std                              NaN     667.196460     674.097564   \n",
       "\n",
       "                 low          close        volume     volatility  \\\n",
       "count  135295.000000  135295.000000  1.352950e+05  135295.000000   \n",
       "mean      427.086024     430.646209  3.398976e+04       2.100853   \n",
       "min       -40.320000     -37.630001  0.000000e+00    -218.571424   \n",
       "25%        20.041000      20.193000  1.040000e+02       0.879423   \n",
       "50%       109.500000     110.500000  2.663000e+03       1.791280   \n",
       "75%       584.000000     588.500000  3.070650e+04       2.877327   \n",
       "max     11132.000000   11878.000000  2.288230e+06     328.087995   \n",
       "std       660.621961     667.494880  8.315627e+04       2.155053   \n",
       "\n",
       "        relative_gap  \n",
       "count  135295.000000  \n",
       "mean       -0.013889  \n",
       "min      -312.239154  \n",
       "25%        -0.768389  \n",
       "50%         0.000000  \n",
       "75%         0.748876  \n",
       "max        48.108743  \n",
       "std         2.004861  "
      ]
     },
     "execution_count": 16,
     "metadata": {},
     "output_type": "execute_result"
    }
   ],
   "source": [
    "#statistique\n",
    "df.describe()"
   ]
  },
  {
   "cell_type": "code",
   "execution_count": 17,
   "id": "f014553b",
   "metadata": {},
   "outputs": [
    {
     "name": "stdout",
     "output_type": "stream",
     "text": [
      "<class 'pandas.core.frame.DataFrame'>\n",
      "RangeIndex: 135295 entries, 0 to 135294\n",
      "Data columns (total 12 columns):\n",
      " #   Column        Non-Null Count   Dtype         \n",
      "---  ------        --------------   -----         \n",
      " 0   ticker        135295 non-null  object        \n",
      " 1   commodity     135295 non-null  object        \n",
      " 2   category      135295 non-null  object        \n",
      " 3   date          135295 non-null  datetime64[ns]\n",
      " 4   open          135295 non-null  float64       \n",
      " 5   high          135295 non-null  float64       \n",
      " 6   low           135295 non-null  float64       \n",
      " 7   close         135295 non-null  float64       \n",
      " 8   volume        135295 non-null  int64         \n",
      " 9   daily_trend   135295 non-null  object        \n",
      " 10  volatility    135295 non-null  float64       \n",
      " 11  relative_gap  135295 non-null  float64       \n",
      "dtypes: datetime64[ns](1), float64(6), int64(1), object(4)\n",
      "memory usage: 12.4+ MB\n"
     ]
    }
   ],
   "source": [
    "df.info()"
   ]
  },
  {
   "cell_type": "code",
   "execution_count": 18,
   "id": "355304e2",
   "metadata": {},
   "outputs": [
    {
     "name": "stdout",
     "output_type": "stream",
     "text": [
      "['Lean Hogs' 'Live Cattle' 'Cocoa' 'Coffee' 'Cotton'\n",
      " 'Random Length Lumber' 'Orange Juice' 'Sugar' 'Crude Oil' 'Heating Oil'\n",
      " 'Natural Gas' 'RBOB Gasoline' 'Brent Crude Oil' 'Gold' 'Silver'\n",
      " 'Platinum' 'Copper' 'Palladium' 'Corn' 'Oat' 'KC HRW Wheat' 'Rough Rice'\n",
      " 'Soybean Oil' 'Soybean']\n",
      "['Animal Products' 'Agricultural Commodities' 'Fossil Fuels'\n",
      " 'Precious Metals' 'Grains and Cereals']\n"
     ]
    }
   ],
   "source": [
    "#Liste des commodity et des catégorie\n",
    "print(df['commodity'].unique())\n",
    "print(df['category'].unique())"
   ]
  },
  {
   "cell_type": "code",
   "execution_count": 22,
   "id": "91deba78",
   "metadata": {},
   "outputs": [
    {
     "name": "stdout",
     "output_type": "stream",
     "text": [
      "Fichier enregistré avec succès à : C:/Users/yayet/OneDrive/Documents/Paris_1_panthéon_Sorbonne/DataViz/Projet_Streamlit/Data/data_net/commodities_market.csv\n"
     ]
    }
   ],
   "source": [
    "chemin ='C:/Users/yayet/OneDrive/Documents/Paris_1_panthéon_Sorbonne/DataViz/Projet_Streamlit/Data/data_net/commodities_market.csv'\n",
    "df.to_csv(chemin, index=False, encoding=\"utf-8\")\n",
    "print(f\"Fichier enregistré avec succès à : {chemin}\")"
   ]
  },
  {
   "cell_type": "code",
   "execution_count": null,
   "id": "90c404cc",
   "metadata": {},
   "outputs": [],
   "source": []
  }
 ],
 "metadata": {
  "kernelspec": {
   "display_name": "Python 3 (ipykernel)",
   "language": "python",
   "name": "python3"
  },
  "language_info": {
   "codemirror_mode": {
    "name": "ipython",
    "version": 3
   },
   "file_extension": ".py",
   "mimetype": "text/x-python",
   "name": "python",
   "nbconvert_exporter": "python",
   "pygments_lexer": "ipython3",
   "version": "3.10.9"
  }
 },
 "nbformat": 4,
 "nbformat_minor": 5
}
